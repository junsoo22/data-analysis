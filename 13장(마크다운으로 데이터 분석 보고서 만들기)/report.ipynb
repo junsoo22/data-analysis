{
 "cells": [
  {
   "cell_type": "markdown",
   "id": "2f92ccbc-b84f-4df2-b9f6-552ac074e5d2",
   "metadata": {},
   "source": [
    "문자 앞 뒤에 *특수문자*를 넣으면 기울임체가 ㅁ됩니다.\n",
    "\n",
    "문자 앞 뒤에 **특수문자**를 넣으면 강조체가 됩니다.\n",
    "\n",
    "문자 앞뒤에 ~~특수문자~~를 넣으면 취소선을 만듭니다.\n",
    "\n",
    "문자 앞 뒤에 [특수문자](http://www.google.com/search?q=special+character)을 넣으면 하이퍼링크를 만듭니다.\n",
    "\n",
    "# 1단계 제목 \n",
    "## 2단계 제목\n",
    "### 3단계 제목\n",
    "#### 4단계 제목\n",
    "\n",
    "코드에 백틱 기호를 입력하면 `pandas` 와 같이 음영을 넣습니다."
   ]
  },
  {
   "cell_type": "markdown",
   "id": "cdf50566-14ec-4a8b-9893-6e19ff698f72",
   "metadata": {},
   "source": [
    "# 데이터 분석 보고서 만들기\n",
    "\n",
    "## 마크다운\n",
    "\n",
    "마크다운 문법으로 코드를 작성해 [HTML](https://ko.wikipedia.org/wiki/HTML)로 변환 할 수 있습니다. 마크다운을 이용하면 분석 과정과 결과를 자세하게 기술 할 수 있어서 **재현 가능성**을 갖춘 *데이터 분석 보고서*를 만들 수 있습니다.\n",
    "\n",
    "## 마크다운 문법 예제\n",
    "\n",
    "코드와 코드 실행 결과물을 보고서에 함께 출력합니다"
   ]
  },
  {
   "cell_type": "code",
   "execution_count": 2,
   "id": "6201043f-77f6-49a2-9b4a-5fd407fd1c38",
   "metadata": {},
   "outputs": [
    {
     "data": {
      "text/plain": [
       "drv\n",
       "f    106\n",
       "4    103\n",
       "r     25\n",
       "Name: count, dtype: int64"
      ]
     },
     "execution_count": 2,
     "metadata": {},
     "output_type": "execute_result"
    }
   ],
   "source": [
    "import pandas as pd\n",
    "df=pd.read_csv('mpg.csv')\n",
    "df['drv'].value_counts()"
   ]
  },
  {
   "cell_type": "code",
   "execution_count": 4,
   "id": "756ea82d-abf9-4f19-ba7b-65bef575c6ac",
   "metadata": {},
   "outputs": [
    {
     "data": {
      "text/plain": [
       "<Axes: xlabel='drv', ylabel='count'>"
      ]
     },
     "execution_count": 4,
     "metadata": {},
     "output_type": "execute_result"
    },
    {
     "data": {
      "image/png": "[encoded data removed]",
      "text/plain": [
       "<Figure size 640x480 with 1 Axes>"
      ]
     },
     "metadata": {},
     "output_type": "display_data"
    }
   ],
   "source": [
    "import seaborn as sns\n",
    "sns.countplot(data=df,x='drv',hue='drv')"
   ]
  },
  {
   "cell_type": "code",
   "execution_count": 2,
   "id": "4c301f6d-ebef-4dfe-b500-86f307755bfe",
   "metadata": {},
   "outputs": [],
   "source": [
    "!pandoc report.ipynb -s -o report.docx"
   ]
  },
  {
   "cell_type": "code",
   "execution_count": null,
   "id": "ef804784-6fc4-4f61-9b40-3c58a3233041",
   "metadata": {},
   "outputs": [],
   "source": []
  }
 ],
 "metadata": {
  "kernelspec": {
   "display_name": "Python 3 (ipykernel)",
   "language": "python",
   "name": "python3"
  },
  "language_info": {
   "codemirror_mode": {
    "name": "ipython",
    "version": 3
   },
   "file_extension": ".py",
   "mimetype": "text/x-python",
   "name": "python",
   "nbconvert_exporter": "python",
   "pygments_lexer": "ipython3",
   "version": "3.12.4"
  }
 },
 "nbformat": 4,
 "nbformat_minor": 5
}
